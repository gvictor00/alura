{
  "nbformat": 4,
  "nbformat_minor": 0,
  "metadata": {
    "colab": {
      "name": "Introdução a Machine Learning e Classificação - 1.ipynb",
      "provenance": [],
      "collapsed_sections": [],
      "authorship_tag": "ABX9TyMLn0dXwVXSqYQ79j6jqLoD",
      "include_colab_link": true
    },
    "kernelspec": {
      "name": "python3",
      "display_name": "Python 3"
    }
  },
  "cells": [
    {
      "cell_type": "markdown",
      "metadata": {
        "id": "view-in-github",
        "colab_type": "text"
      },
      "source": [
        "<a href=\"https://colab.research.google.com/github/gvictor00/alura/blob/main/Introdu%C3%A7%C3%A3o_a_Machine_Learning_e_Classifica%C3%A7%C3%A3o_1.ipynb\" target=\"_parent\"><img src=\"https://colab.research.google.com/assets/colab-badge.svg\" alt=\"Open In Colab\"/></a>"
      ]
    },
    {
      "cell_type": "code",
      "metadata": {
        "id": "7NQoiO5lUrZu"
      },
      "source": [
        "# features (1 - sim / 0 - não)\r\n",
        "# pelo é longo?\r\n",
        "# perna é curta?\r\n",
        "# faz au au?\r\n",
        "porco1 = [0, 1, 0]\r\n",
        "porco2 = [0, 1, 1]\r\n",
        "porco3 = [1, 1, 0]\r\n",
        "cachorro1 = [0, 0, 1]\r\n",
        "cachorro2 = [1, 0, 1]\r\n",
        "cachorro3 = [1, 1, 1]\r\n",
        "\r\n",
        "# 1 => porco, 0 => cachorro\r\n",
        "treino_x = [porco1, porco2, porco3, cachorro1, cachorro2, cachorro3]\r\n",
        "treino_y = [1,1,1,0,0,0] #labels / etiqueta"
      ],
      "execution_count": 6,
      "outputs": []
    },
    {
      "cell_type": "code",
      "metadata": {
        "colab": {
          "base_uri": "https://localhost:8080/"
        },
        "id": "7BbfSUenYSub",
        "outputId": "7e1e8b45-9d9e-4489-f767-d8306f379f40"
      },
      "source": [
        "from sklearn.svm import LinearSVC\r\n",
        "\r\n",
        "model = LinearSVC()\r\n",
        "model.fit(treino_x, treino_y)"
      ],
      "execution_count": 8,
      "outputs": [
        {
          "output_type": "execute_result",
          "data": {
            "text/plain": [
              "LinearSVC(C=1.0, class_weight=None, dual=True, fit_intercept=True,\n",
              "          intercept_scaling=1, loss='squared_hinge', max_iter=1000,\n",
              "          multi_class='ovr', penalty='l2', random_state=None, tol=0.0001,\n",
              "          verbose=0)"
            ]
          },
          "metadata": {
            "tags": []
          },
          "execution_count": 8
        }
      ]
    },
    {
      "cell_type": "code",
      "metadata": {
        "colab": {
          "base_uri": "https://localhost:8080/"
        },
        "id": "ODo2wuhLYwWA",
        "outputId": "23eeb54a-2af5-4f48-cb93-0588f394f40f"
      },
      "source": [
        "animal_misterioso = [1,1,1]\r\n",
        "model.predict([animal_misterioso])"
      ],
      "execution_count": 9,
      "outputs": [
        {
          "output_type": "execute_result",
          "data": {
            "text/plain": [
              "array([0])"
            ]
          },
          "metadata": {
            "tags": []
          },
          "execution_count": 9
        }
      ]
    },
    {
      "cell_type": "code",
      "metadata": {
        "id": "Xbt1z4lTY7SS"
      },
      "source": [
        "misterio1 = [1,1,1]\r\n",
        "misterio2 = [1,1,0]\r\n",
        "misterio3 = [0,1,1]\r\n",
        "\r\n",
        "teste_x = [misterio1, misterio2, misterio3]\r\n",
        "teste_y = [0,1,1]\r\n",
        "total = len(teste_x)\r\n",
        "previsoes = model.predict(teste_x)"
      ],
      "execution_count": 10,
      "outputs": []
    },
    {
      "cell_type": "code",
      "metadata": {
        "colab": {
          "base_uri": "https://localhost:8080/"
        },
        "id": "vSDCcoP-ZreS",
        "outputId": "8312836c-20f8-4474-80a0-0681fdf42ed8"
      },
      "source": [
        "corretos = (previsoes == teste_y).sum()\r\n",
        "taxa_de_acerto = corretos/total\r\n",
        "\r\n",
        "print(\"Taxa de acerto %.2f\" % (taxa_de_acerto*100))"
      ],
      "execution_count": 20,
      "outputs": [
        {
          "output_type": "stream",
          "text": [
            "Taxa de acerto 100.00\n"
          ],
          "name": "stdout"
        }
      ]
    },
    {
      "cell_type": "code",
      "metadata": {
        "colab": {
          "base_uri": "https://localhost:8080/"
        },
        "id": "V3EKyZM0aAhB",
        "outputId": "71cf551d-0767-4bb3-8b99-19af3f029e67"
      },
      "source": [
        "from sklearn.metrics import accuracy_score\r\n",
        "\r\n",
        "taxa_de_acerto = accuracy_score(teste_y, previsoes)\r\n",
        "print(\"Taxa de acerto %.2f\" % (taxa_de_acerto*100))"
      ],
      "execution_count": 19,
      "outputs": [
        {
          "output_type": "stream",
          "text": [
            "Taxa de acerto 100.00\n"
          ],
          "name": "stdout"
        }
      ]
    },
    {
      "cell_type": "code",
      "metadata": {
        "id": "4VOWh_MfbE7h"
      },
      "source": [
        ""
      ],
      "execution_count": 12,
      "outputs": []
    }
  ]
}