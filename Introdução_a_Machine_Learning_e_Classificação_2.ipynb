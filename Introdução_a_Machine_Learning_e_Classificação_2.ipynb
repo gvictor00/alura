{
  "nbformat": 4,
  "nbformat_minor": 0,
  "metadata": {
    "colab": {
      "name": "Introdução a Machine Learning e Classificação - 2.ipynb",
      "provenance": [],
      "authorship_tag": "ABX9TyPXijDBTMkhegzxc5t+677L",
      "include_colab_link": true
    },
    "kernelspec": {
      "name": "python3",
      "display_name": "Python 3"
    }
  },
  "cells": [
    {
      "cell_type": "markdown",
      "metadata": {
        "id": "view-in-github",
        "colab_type": "text"
      },
      "source": [
        "<a href=\"https://colab.research.google.com/github/gvictor00/alura/blob/main/Introdu%C3%A7%C3%A3o_a_Machine_Learning_e_Classifica%C3%A7%C3%A3o_2.ipynb\" target=\"_parent\"><img src=\"https://colab.research.google.com/assets/colab-badge.svg\" alt=\"Open In Colab\"/></a>"
      ]
    },
    {
      "cell_type": "code",
      "metadata": {
        "colab": {
          "base_uri": "https://localhost:8080/",
          "height": 204
        },
        "id": "PyFLT8_AmeN-",
        "outputId": "92595032-8f71-484a-b608-90830fb53bf6"
      },
      "source": [
        "import pandas as pd\r\n",
        "\r\n",
        "uri = 'https://gist.githubusercontent.com/guilhermesilveira/2d2efa37d66b6c84a722ea627a897ced/raw/10968b997d885cbded1c92938c7a9912ba41c615/tracking.csv'\r\n",
        "dados = pd.read_csv(uri)\r\n",
        "\r\n",
        "# imprime as primeiras linhas\r\n",
        "dados.head()"
      ],
      "execution_count": 5,
      "outputs": [
        {
          "output_type": "execute_result",
          "data": {
            "text/html": [
              "<div>\n",
              "<style scoped>\n",
              "    .dataframe tbody tr th:only-of-type {\n",
              "        vertical-align: middle;\n",
              "    }\n",
              "\n",
              "    .dataframe tbody tr th {\n",
              "        vertical-align: top;\n",
              "    }\n",
              "\n",
              "    .dataframe thead th {\n",
              "        text-align: right;\n",
              "    }\n",
              "</style>\n",
              "<table border=\"1\" class=\"dataframe\">\n",
              "  <thead>\n",
              "    <tr style=\"text-align: right;\">\n",
              "      <th></th>\n",
              "      <th>home</th>\n",
              "      <th>how_it_works</th>\n",
              "      <th>contact</th>\n",
              "      <th>bought</th>\n",
              "    </tr>\n",
              "  </thead>\n",
              "  <tbody>\n",
              "    <tr>\n",
              "      <th>0</th>\n",
              "      <td>1</td>\n",
              "      <td>1</td>\n",
              "      <td>0</td>\n",
              "      <td>0</td>\n",
              "    </tr>\n",
              "    <tr>\n",
              "      <th>1</th>\n",
              "      <td>1</td>\n",
              "      <td>1</td>\n",
              "      <td>0</td>\n",
              "      <td>0</td>\n",
              "    </tr>\n",
              "    <tr>\n",
              "      <th>2</th>\n",
              "      <td>1</td>\n",
              "      <td>1</td>\n",
              "      <td>0</td>\n",
              "      <td>0</td>\n",
              "    </tr>\n",
              "    <tr>\n",
              "      <th>3</th>\n",
              "      <td>1</td>\n",
              "      <td>1</td>\n",
              "      <td>0</td>\n",
              "      <td>0</td>\n",
              "    </tr>\n",
              "    <tr>\n",
              "      <th>4</th>\n",
              "      <td>1</td>\n",
              "      <td>1</td>\n",
              "      <td>0</td>\n",
              "      <td>0</td>\n",
              "    </tr>\n",
              "  </tbody>\n",
              "</table>\n",
              "</div>"
            ],
            "text/plain": [
              "   home  how_it_works  contact  bought\n",
              "0     1             1        0       0\n",
              "1     1             1        0       0\n",
              "2     1             1        0       0\n",
              "3     1             1        0       0\n",
              "4     1             1        0       0"
            ]
          },
          "metadata": {
            "tags": []
          },
          "execution_count": 5
        }
      ]
    },
    {
      "cell_type": "code",
      "metadata": {
        "id": "eyl4vLQYnTK5"
      },
      "source": [
        "# A biblioteca Pandas permite renomear o conjunto de dados de acordo com a\r\n",
        "# necessidade do programador. Neste exemplo, a mudança aconteceu para o \r\n",
        "# idioma português.\r\n",
        "\r\n",
        "mapa = {\r\n",
        "    \"home\" : \"principal\",\r\n",
        "    \"how_it_works\" : \"como_funciona\",\r\n",
        "    \"contact\" : \"contato\",\r\n",
        "    \"bought\" : \"comprou\"\r\n",
        "}\r\n",
        "\r\n",
        "dados = dados.rename(columns = mapa)"
      ],
      "execution_count": 7,
      "outputs": []
    },
    {
      "cell_type": "code",
      "metadata": {
        "id": "Y6HGFOx5m7MZ"
      },
      "source": [
        "# Antes da mudança na tabela\r\n",
        "#x = dados[[\"home\",\"how_it_works\",\"contact\"]]\r\n",
        "#y = dados[[\"bought\"]]\r\n",
        "\r\n",
        "# Depois da mudança da tabela\r\n",
        "x = dados[[\"principal\",\"como_funciona\",\"contato\"]]\r\n",
        "y = dados[\"comprou\"]"
      ],
      "execution_count": 20,
      "outputs": []
    },
    {
      "cell_type": "code",
      "metadata": {
        "colab": {
          "base_uri": "https://localhost:8080/"
        },
        "id": "adAiXp-YoH-F",
        "outputId": "3f12234d-c8ae-451e-f499-167aebd6a28f"
      },
      "source": [
        "# Retorna o formato dos dados\r\n",
        "dados.shape"
      ],
      "execution_count": 16,
      "outputs": [
        {
          "output_type": "execute_result",
          "data": {
            "text/plain": [
              "(99, 4)"
            ]
          },
          "metadata": {
            "tags": []
          },
          "execution_count": 16
        }
      ]
    },
    {
      "cell_type": "code",
      "metadata": {
        "colab": {
          "base_uri": "https://localhost:8080/"
        },
        "id": "UUwmGduAoOKO",
        "outputId": "603ebe0a-d673-44bb-8211-783e59eaeb66"
      },
      "source": [
        "# Pega os elementos ATÉ o 75 (0 - 74)\r\n",
        "treino_x = x[:75]\r\n",
        "treino_y = y[:75]\r\n",
        "\r\n",
        "# Pega a partir do elemento 75 (75 - 99)\r\n",
        "teste_x = x[75:]\r\n",
        "teste_y = y[75:]\r\n",
        "\r\n",
        "teste_y.shape\r\n",
        "\r\n",
        "print(\"Treinaremos com %d elementos e testaremos com %d elementos\" % (len(treino_x), len(teste_x)))"
      ],
      "execution_count": 21,
      "outputs": [
        {
          "output_type": "stream",
          "text": [
            "Treinaremos com 75 elementos e testaremos com 24 elementos\n"
          ],
          "name": "stdout"
        }
      ]
    },
    {
      "cell_type": "code",
      "metadata": {
        "colab": {
          "base_uri": "https://localhost:8080/"
        },
        "id": "0Lu7XAYBonK8",
        "outputId": "c641e982-cbb2-4117-b057-8caaca1cfb94"
      },
      "source": [
        "from sklearn.svm import LinearSVC\r\n",
        "from sklearn.metrics import accuracy_score\r\n",
        "\r\n",
        "model = LinearSVC()\r\n",
        "model.fit(treino_x, treino_y)\r\n",
        "previsoes = model.predict(teste_x)\r\n",
        "\r\n",
        "taxa_de_acerto = accuracy_score(teste_y, previsoes)\r\n",
        "print(\"A acuracia foi %.2f%%\" % (taxa_de_acerto * 100))\r\n"
      ],
      "execution_count": 23,
      "outputs": [
        {
          "output_type": "stream",
          "text": [
            "A acuracia foi 95.83%\n"
          ],
          "name": "stdout"
        }
      ]
    },
    {
      "cell_type": "markdown",
      "metadata": {
        "id": "cyxBh5rWramk"
      },
      "source": [
        "# Usando a biblioteca para separar treino e testes"
      ]
    },
    {
      "cell_type": "code",
      "metadata": {
        "colab": {
          "base_uri": "https://localhost:8080/"
        },
        "id": "Qml4pZtvpteV",
        "outputId": "79238363-2775-4dad-96f6-9d4ad151de44"
      },
      "source": [
        "from sklearn.model_selection import train_test_split\r\n",
        "\r\n",
        "# semente para ser utilizada como referência, para remover a aleatoriedade\r\n",
        "# da separação dos dados\r\n",
        "SEED = 20\r\n",
        "\r\n",
        "# Função responsável por separar aleatoriamente o conjunto de dados\r\n",
        "treino_x, teste_x, treino_y, teste_y = train_test_split(x,y, random_state = SEED, test_size = 0.25)\r\n",
        "print(\"Treinaremos com %d elementos e testaremos com %d elementos\" % (len(treino_x), len(teste_x)))\r\n",
        "\r\n",
        "from sklearn.svm import LinearSVC\r\n",
        "from sklearn.metrics import accuracy_score\r\n",
        "\r\n",
        "model = LinearSVC()\r\n",
        "model.fit(treino_x, treino_y)\r\n",
        "previsoes = model.predict(teste_x)\r\n",
        "\r\n",
        "taxa_de_acerto = accuracy_score(teste_y, previsoes)\r\n",
        "print(\"A acuracia foi %.2f%%\" % (taxa_de_acerto * 100))"
      ],
      "execution_count": 35,
      "outputs": [
        {
          "output_type": "stream",
          "text": [
            "Treinaremos com 74 elementos e testaremos com 25 elementos\n",
            "A acuracia foi 96.00%\n"
          ],
          "name": "stdout"
        }
      ]
    },
    {
      "cell_type": "code",
      "metadata": {
        "colab": {
          "base_uri": "https://localhost:8080/"
        },
        "id": "YJ8ZUC57s3EV",
        "outputId": "af37b8d0-aebb-4824-d006-e977424249ee"
      },
      "source": [
        "treino_y.value_counts()"
      ],
      "execution_count": 36,
      "outputs": [
        {
          "output_type": "execute_result",
          "data": {
            "text/plain": [
              "0    47\n",
              "1    27\n",
              "Name: comprou, dtype: int64"
            ]
          },
          "metadata": {
            "tags": []
          },
          "execution_count": 36
        }
      ]
    },
    {
      "cell_type": "code",
      "metadata": {
        "colab": {
          "base_uri": "https://localhost:8080/"
        },
        "id": "ygcE0KkCs9c1",
        "outputId": "625fbe05-a3f6-451e-e86e-f0d560a5a347"
      },
      "source": [
        "teste_y.value_counts()"
      ],
      "execution_count": 37,
      "outputs": [
        {
          "output_type": "execute_result",
          "data": {
            "text/plain": [
              "0    19\n",
              "1     6\n",
              "Name: comprou, dtype: int64"
            ]
          },
          "metadata": {
            "tags": []
          },
          "execution_count": 37
        }
      ]
    },
    {
      "cell_type": "markdown",
      "metadata": {
        "id": "Fv4XHmfGrTKb"
      },
      "source": [
        "## Estratificando a separação\r\n",
        "A ideia é evitar que o conjunto de dados tenha um proporção de informações diferentes entre o treino e o teste. Ao aplica a estratificação, é realizado um ajuste para que as proporções entre resultados e treino e teste sejam equivalentes."
      ]
    },
    {
      "cell_type": "code",
      "metadata": {
        "id": "-E_cg0SnrCIk"
      },
      "source": [
        "from sklearn.model_selection import train_test_split\r\n",
        "\r\n",
        "# semente para ser utilizada como referência, para remover a aleatoriedade\r\n",
        "# da separação dos dados\r\n",
        "SEED = 20\r\n",
        "\r\n",
        "# Função responsável por separar aleatoriamente o conjunto de dados\r\n",
        "treino_x, teste_x, treino_y, teste_y = train_test_split(x,y, random_state = SEED, \r\n",
        "                                                        test_size = 0.25\r\n",
        "                                                        stratify = y)\r\n",
        "print(\"Treinaremos com %d elementos e testaremos com %d elementos\" % (len(treino_x), len(teste_x)))\r\n",
        "\r\n",
        "from sklearn.svm import LinearSVC\r\n",
        "from sklearn.metrics import accuracy_score\r\n",
        "\r\n",
        "model = LinearSVC()\r\n",
        "model.fit(treino_x, treino_y)\r\n",
        "previsoes = model.predict(teste_x)\r\n",
        "\r\n",
        "taxa_de_acerto = accuracy_score(teste_y, previsoes)\r\n",
        "print(\"A acuracia foi %.2f%%\" % (taxa_de_acerto * 100))"
      ],
      "execution_count": null,
      "outputs": []
    },
    {
      "cell_type": "code",
      "metadata": {
        "colab": {
          "base_uri": "https://localhost:8080/"
        },
        "id": "lgz0MOvbtIjs",
        "outputId": "0e6ce55e-219c-4c08-a703-258d6f4f142a"
      },
      "source": [
        "treino_y.value_counts()"
      ],
      "execution_count": 38,
      "outputs": [
        {
          "output_type": "execute_result",
          "data": {
            "text/plain": [
              "0    47\n",
              "1    27\n",
              "Name: comprou, dtype: int64"
            ]
          },
          "metadata": {
            "tags": []
          },
          "execution_count": 38
        }
      ]
    },
    {
      "cell_type": "code",
      "metadata": {
        "colab": {
          "base_uri": "https://localhost:8080/"
        },
        "id": "KX25uzF1tJEk",
        "outputId": "85daca6a-4aac-4b0f-900c-a9ad97706e1b"
      },
      "source": [
        "teste_y.value_counts()"
      ],
      "execution_count": 39,
      "outputs": [
        {
          "output_type": "execute_result",
          "data": {
            "text/plain": [
              "0    19\n",
              "1     6\n",
              "Name: comprou, dtype: int64"
            ]
          },
          "metadata": {
            "tags": []
          },
          "execution_count": 39
        }
      ]
    },
    {
      "cell_type": "code",
      "metadata": {
        "id": "PdhRJgOxtLjH"
      },
      "source": [
        ""
      ],
      "execution_count": null,
      "outputs": []
    }
  ]
}